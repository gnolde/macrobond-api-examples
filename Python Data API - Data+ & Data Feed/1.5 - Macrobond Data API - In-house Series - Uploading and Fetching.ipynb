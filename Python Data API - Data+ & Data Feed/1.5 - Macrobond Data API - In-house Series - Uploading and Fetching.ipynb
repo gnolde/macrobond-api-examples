{
 "cells": [
  {
   "cell_type": "markdown",
   "metadata": {},
   "source": [
    "# 1.5 - Macrobond Data API - In-house Series - Uploading and Fetching\n",
    "\n",
    "This notebook is designed to act as a template and guidline in which certain elements can be minipulated to get the desired outcome.\n",
    "\n",
    "Here we demonstrate how to upload, fetch and delete in-house series. In-house series are proprietary content you own and wish to import in Macrobond for further analysis.\n",
    "\n",
    "*The examples use the common functions of Macrobond API. Full error handling is omitted for brevity*"
   ]
  },
  {
   "cell_type": "markdown",
   "metadata": {},
   "source": [
    "***\n",
    "\n",
    "## Importing packages"
   ]
  },
  {
   "cell_type": "code",
   "execution_count": 0,
   "metadata": {},
   "outputs": [],
   "source": [
    "import pandas as pd\n",
    "import macrobond_data_api as mda\n",
    "import numpy as np\n",
    "\n",
    "pd.options.display.max_colwidth = 1000"
   ]
  },
  {
   "cell_type": "markdown",
   "metadata": {},
   "source": [
    "***\n",
    "\n",
    "## Get and process the data"
   ]
  },
  {
   "cell_type": "markdown",
   "metadata": {},
   "source": [
    "In this example, instead of starting with a blank series, we first retrieve an existing time series from the Macrobond database, that will then be altered before imported back into the Macrobond ecosystem."
   ]
  },
  {
   "cell_type": "code",
   "execution_count": 0,
   "metadata": {},
   "outputs": [],
   "source": [
    "# get a timeseries\n",
    "series = mda.get_one_series(\"ustrad2120\")\n",
    "metadata = series.metadata\n",
    "series = series.values_to_pd_data_frame()\n",
    "series.index = pd.to_datetime(series[\"date\"])\n",
    "series = series.drop(columns=[\"date\"]).rename(columns={\"value\": \"ustrad2120\"})\n",
    "series.plot()"
   ]
  },
  {
   "cell_type": "markdown",
   "metadata": {},
   "source": [
    "We are now going to perform some alterations on the time series."
   ]
  },
  {
   "cell_type": "code",
   "execution_count": 0,
   "metadata": {},
   "outputs": [],
   "source": [
    "# process the timeseries, in this case, smooth it by moving average\n",
    "padded_data = np.pad(series[\"ustrad2120\"], (48 // 2, 48 // 2), mode=\"reflect\")\n",
    "trend = np.convolve(padded_data, np.ones(48), \"valid\") / 48\n",
    "series_smooth = pd.DataFrame({\"value\": trend[-len(series) :]}, index=series.index)\n",
    "series_smooth.rename(columns={\"value\": \"ustrad2120_smooth\"}, inplace=True)\n",
    "series_smooth.plot()"
   ]
  },
  {
   "cell_type": "code",
   "execution_count": 0,
   "metadata": {},
   "outputs": [],
   "source": [
    "series_smooth"
   ]
  },
  {
   "cell_type": "markdown",
   "metadata": {},
   "source": [
    "***\n",
    "\n",
    "## Uploading processed series to Macrobond as in-house series\n",
    "\n",
    "Now, you can upload your processed series to Macrobond as in-house series. You have three directories where you can save your series in Macrobond.\n",
    "* Private Account: account belonging to the API account used to perform this upload. No one else could access this in-house series.\n",
    "* Department Account: All the users in the same department with this account can see and fetch it.\n",
    "* Company Account: All the users in the same company with this account can see and fetch it.\n",
    "\n",
    "Note: If you are uploading a time series using a Data Web API data feed account, you need to upload the series to department account or company account so you and your team's personal Macrobond accounts, including the Macrobond Application (if any) can see and fetch it."
   ]
  },
  {
   "cell_type": "code",
   "execution_count": 0,
   "metadata": {},
   "outputs": [],
   "source": [
    "from macrobond_data_api.common.enums.series_frequency import SeriesFrequency\n",
    "from datetime import datetime\n",
    "from dateutil.tz import tzutc\n",
    "\n",
    "mda.upload_series(\n",
    "    name=\"ih:mb:com:ustrad2120_smooth\",\n",
    "    description=\"{} Smoothed\".format(metadata[\"Description\"]),\n",
    "    category=\"{}_smoothed\".format(metadata[\"Category\"]),\n",
    "    region=metadata[\"Region\"][0],\n",
    "    frequency=SeriesFrequency.WEEKLY,\n",
    "    metadata={\n",
    "        \"Source\": metadata[\"Source\"],\n",
    "    },  # metadata added here has to be metadata known by Macrobond, not custom metadata\n",
    "    values=series_smooth[\"{}_smooth\".format(metadata[\"PrimName\"])],\n",
    "    start_date_or_dates=series_smooth.index.tz_localize(tzutc()),\n",
    ")  # the dates must have timezone information"
   ]
  },
  {
   "cell_type": "markdown",
   "metadata": {},
   "source": [
    "***\n",
    "\n",
    "## Fetch in house series\n",
    "You can fetch any in-house series saved in personal account by yourself or in department/company account by you or your colleagues in the same department/company, just like fetching any Macrobond time series. The fetching methods being the same, only the primname of the request is specific to your in-house series."
   ]
  },
  {
   "cell_type": "code",
   "execution_count": 0,
   "metadata": {},
   "outputs": [],
   "source": [
    "mda.get_one_series(\"ih:mb:com:ustrad2120_smooth\")"
   ]
  },
  {
   "cell_type": "markdown",
   "metadata": {},
   "source": [
    "***\n",
    "\n",
    "## Delete in house series"
   ]
  },
  {
   "cell_type": "code",
   "execution_count": 0,
   "metadata": {},
   "outputs": [],
   "source": [
    "mda.delete_serie(\"ih:mb:com:ustrad2120_smooth\")"
   ]
  }
 ],
 "metadata": {
  "kernelspec": {
   "display_name": ".venv",
   "language": "python",
   "name": "python3"
  },
  "language_info": {
   "codemirror_mode": {
    "name": "ipython",
    "version": 3
   },
   "file_extension": ".py",
   "mimetype": "text/x-python",
   "name": "python",
   "nbconvert_exporter": "python",
   "pygments_lexer": "ipython3",
   "version": "3.9.13"
  }
 },
 "nbformat": 4,
 "nbformat_minor": 2
}
