{
 "cells": [
  {
   "attachments": {},
   "cell_type": "markdown",
   "metadata": {},
   "source": [
    "# 2.3 - Macrobond Data API for Python - Filter with a Keyword\n",
    "\n",
    "*Performing coverage checks based on a keyword*\n",
    "\n",
    "This notebook aims to provide examples of how to use Macrobond Data API for Python as well as insights on the key attributes used to display the output in an understandable format.\n",
    "\n",
    "We will focus here on using the Search method based on a **keyword** filter. This helps you build a list of time series potentially relating to a common theme.\n",
    "\n",
    "You can find a full description of all methods and parameters used in the examples in the [documentation of the API](https://macrobond.github.io/macrobond-data-api/common/api.html).\n",
    "\n",
    "*The examples uses the common functions of Macrobond API. Full error handling is omitted for brevity*"
   ]
  },
  {
   "cell_type": "markdown",
   "metadata": {},
   "source": [
    "***\n",
    "\n",
    "## Importing packages"
   ]
  },
  {
   "cell_type": "code",
   "execution_count": 0,
   "metadata": {},
   "outputs": [],
   "source": [
    "import macrobond_data_api as mda"
   ]
  },
  {
   "attachments": {},
   "cell_type": "markdown",
   "metadata": {},
   "source": [
    "***\n",
    "\n",
    "## Get the data - Keyword: Government Securities Auctions\n",
    "\n",
    "Note that we are using here the Search endpoint with filters on keywords `text=Government Securities Auctions` and `Frequency=daily` time series in this example."
   ]
  },
  {
   "cell_type": "code",
   "execution_count": 0,
   "metadata": {},
   "outputs": [],
   "source": [
    "data_frame = mda.entity_search(\n",
    "    text=\"Government Securities Auctions\",\n",
    "    entity_types=\"TimeSeries\",\n",
    "    must_have_values={\"Frequency\": \"daily\"},\n",
    "    include_discontinued=False,\n",
    ").to_pd_data_frame()[\n",
    "    [\n",
    "        \"PrimName\",\n",
    "        \"FullDescription\",\n",
    "        \"Description\",\n",
    "        \"Region\",\n",
    "        \"Category\",\n",
    "        \"Frequency\",\n",
    "        \"Source\",\n",
    "        \"Class\",\n",
    "        \"PriceType\",\n",
    "    ]\n",
    "]"
   ]
  },
  {
   "cell_type": "code",
   "execution_count": null,
   "metadata": {},
   "outputs": [],
   "source": [
    "data_frame"
   ]
  }
 ],
 "metadata": {
  "kernelspec": {
   "display_name": ".venv",
   "language": "python",
   "name": "python3"
  },
  "language_info": {
   "codemirror_mode": {
    "name": "ipython",
    "version": 3
   },
   "file_extension": ".py",
   "mimetype": "text/x-python",
   "name": "python",
   "nbconvert_exporter": "python",
   "pygments_lexer": "ipython3",
   "version": "3.11.9"
  }
 },
 "nbformat": 4,
 "nbformat_minor": 2
}
