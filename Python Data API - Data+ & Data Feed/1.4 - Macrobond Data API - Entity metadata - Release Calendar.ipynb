{
 "cells": [
  {
   "attachments": {},
   "cell_type": "markdown",
   "metadata": {},
   "source": [
    "# 1.4 - Macrobond Data API for Python - Entity metadata - Release Calendar\n",
    "\n",
    "This notebook is designed to act as a template and guidline in which certain elements can be manipulated to get the desired outcome.\n",
    "\n",
    "Here we demonstrate how to leverage the metadata in Release entity to create a watchlist of series with information about next expected update date and time. **Please note that Macrobond only stores reliable release calendar from sources. Therefore, not all the Releases have calendar information. There might also be unscheduled revisions of series.**\n",
    "\n",
    "You can find a full description of all methods and parameters used in the examples in the [documentation of the API](https://macrobond.github.io/macrobond-data-api/common/api.html).\n",
    "\n",
    "*The examples use the common functions of Macrobond API. Full error handling is omitted for brevity*"
   ]
  },
  {
   "attachments": {},
   "cell_type": "markdown",
   "metadata": {},
   "source": [
    "***\n",
    "\n",
    "## Importing packages"
   ]
  },
  {
   "cell_type": "code",
   "execution_count": 0,
   "metadata": {},
   "outputs": [],
   "source": [
    "import pandas as pd\n",
    "import macrobond_data_api as mda\n",
    "import datetime\n",
    "\n",
    "pd.options.display.max_colwidth = 10001"
   ]
  },
  {
   "attachments": {},
   "cell_type": "markdown",
   "metadata": {},
   "source": [
    "## Build a universe with their release entity"
   ]
  },
  {
   "cell_type": "markdown",
   "metadata": {},
   "source": [
    "We are using below a list of time series from which we will extract the Release where they are coming from.\n",
    "In the Macrobond's database, a Release is a dataset coming from a Source. Usually, time series belonging to a particular release have common characteristics such as a single frequency of release, commonality on the concept they refer to etc."
   ]
  },
  {
   "cell_type": "code",
   "execution_count": 0,
   "metadata": {},
   "outputs": [],
   "source": [
    "example_payload = [\n",
    "    \"hrbust0001\",\n",
    "    \"krflof4520\",\n",
    "    \"rsnaac0137\",\n",
    "    \"itlama0989\",\n",
    "    \"zabank0331\",\n",
    "    \"mdinea0008\",\n",
    "    \"czbank0739\",\n",
    "    \"espric3581\",\n",
    "    \"gblama0167\",\n",
    "    \"jmrate0001\",\n",
    "    \"clnaac0182\",\n",
    "    \"idbopa0001\",\n",
    "    \"narate0001\",\n",
    "    \"deprod5135\",\n",
    "    \"ltcons0207\",\n",
    "    \"qarate0003\",\n",
    "    \"eetour0055\",\n",
    "    \"rurate0001\",\n",
    "    \"thbank0405\",\n",
    "    \"bgpric0639\",\n",
    "]\n",
    "\n",
    "universe = mda.get_series(example_payload)"
   ]
  },
  {
   "cell_type": "markdown",
   "metadata": {},
   "source": [
    "Let's now extract the releases where the time series above are coming from."
   ]
  },
  {
   "cell_type": "code",
   "execution_count": 0,
   "metadata": {},
   "outputs": [],
   "source": [
    "metadata_universe = pd.DataFrame(\n",
    "    {\n",
    "        \"PrimName\": [x.metadata[\"PrimName\"] for x in universe],\n",
    "        \"LastModifiedTimeStamp\": [\n",
    "            x.metadata[\"LastModifiedTimeStamp\"] for x in universe\n",
    "        ],\n",
    "        \"Release\": [\n",
    "            x.metadata[\"Release\"] if \"Release\" in x.metadata else None for x in universe\n",
    "        ],\n",
    "        \"FullDescription\": [x.metadata[\"FullDescription\"] for x in universe],\n",
    "        \"LatestValue\": [x.values[-1] for x in universe],\n",
    "    }\n",
    ")\n",
    "if metadata_universe.Release.isnull().any():\n",
    "    print(\n",
    "        \"Warning: The following series do not have a release, and are removed from your watchlist.\"\n",
    "    )\n",
    "    display(metadata_universe[metadata_universe.Release.isnull()])\n",
    "    metadata_universe = metadata_universe[metadata_universe.Release.notnull()]"
   ]
  },
  {
   "attachments": {},
   "cell_type": "markdown",
   "metadata": {},
   "source": [
    "## Get calendar metadata from underlying Releases"
   ]
  },
  {
   "cell_type": "markdown",
   "metadata": {},
   "source": [
    "We are now retrieving the calendar information from these releases.\n",
    "We are making a use here of a few key metadata fields including:\n",
    "_ NextReleaseEventTime: denoting when we expect the next calendar release\n",
    "_ NextReleaseEventReferencePeriod: denoting what historical period the next release refers to e.g. \"Q2 2024\""
   ]
  },
  {
   "cell_type": "code",
   "execution_count": null,
   "metadata": {},
   "outputs": [],
   "source": [
    "release_info = mda.get_entities(metadata_universe[\"Release\"].drop_duplicates())\n",
    "release = pd.DataFrame(\n",
    "    {\n",
    "        \"NextReleaseEventReferencePeriod\": [\n",
    "            x.metadata.get(\"NextReleaseEventReferencePeriod\") for x in release_info\n",
    "        ],\n",
    "        \"PrimName\": [x.metadata[\"PrimName\"] for x in release_info],\n",
    "        \"FullDescription\": [x.metadata[\"FullDescription\"] for x in release_info],\n",
    "        \"LastReleaseEventTime\": [\n",
    "            x.metadata.get(\"LastReleaseEventTime\") for x in release_info\n",
    "        ],\n",
    "        \"NextReleaseEventTime\": [\n",
    "            x.metadata.get(\"NextReleaseEventTime\") for x in release_info\n",
    "        ],\n",
    "    }\n",
    ")\n",
    "\n",
    "if release.NextReleaseEventTime.isnull().any():\n",
    "    print(\"The following series do not have a next release event time\")\n",
    "    display(release[release.NextReleaseEventTime.isnull()])\n",
    "    # release = release[release.NextReleaseEventTime.notna()]"
   ]
  },
  {
   "cell_type": "code",
   "execution_count": 0,
   "metadata": {},
   "outputs": [],
   "source": [
    "# map the release period\n",
    "def release_period(date):\n",
    "    today = datetime.date.today()\n",
    "    tomorrow = today + datetime.timedelta(days=1)\n",
    "    day_after_tomorrow = today + datetime.timedelta(days=2)\n",
    "    next_monday = today + datetime.timedelta(days=(7 - today.weekday()))\n",
    "    next_sunday = today + datetime.timedelta(days=(7 - today.weekday() + 6))\n",
    "\n",
    "    if pd.isnull(date):\n",
    "        return \"Unknown\"\n",
    "    elif date < tomorrow:\n",
    "        return \"Today\"\n",
    "    elif tomorrow <= date < day_after_tomorrow:\n",
    "        return \"Tomorrow\"\n",
    "    elif day_after_tomorrow <= date < next_monday:\n",
    "        return \"This week\"\n",
    "    elif next_monday <= date <= next_sunday:\n",
    "        return \"Next week\"\n",
    "    else:\n",
    "        return \"Later\"\n",
    "\n",
    "\n",
    "release[\"Release Period\"] = release[\"NextReleaseEventTime\"].map(\n",
    "    lambda x: release_period(x.date()) if not pd.isnull(x) else \"Unknown\"\n",
    ")"
   ]
  },
  {
   "attachments": {},
   "cell_type": "markdown",
   "metadata": {},
   "source": [
    "## Merge Release calendar metadata with time series metadata\n",
    "\n",
    "In the table below, the index shows the expected next update date based on the Source's release calendar. Moreover, in most cases, you can compare LastReleaseEventTime and LastModifiedTimeStamp below to check the difference between the expected release time based on Source calendar and the real time that Macrobond received the data.\n",
    "\n",
    "Please note, LastReleaseEventTime is the expected, not the real release time from the source. LastModifiedTimeStamp can be overwritten by many reasons other than timeseries update."
   ]
  },
  {
   "cell_type": "code",
   "execution_count": null,
   "metadata": {},
   "outputs": [],
   "source": [
    "calender = (\n",
    "    metadata_universe[\n",
    "        [\n",
    "            \"PrimName\",\n",
    "            \"Release\",\n",
    "            \"LastModifiedTimeStamp\",\n",
    "            \"FullDescription\",\n",
    "            \"LatestValue\",\n",
    "        ]\n",
    "    ]\n",
    "    .merge(\n",
    "        release,\n",
    "        left_on=\"Release\",\n",
    "        right_on=\"PrimName\",\n",
    "        how=\"right\",\n",
    "        suffixes=(\"\", \"_release\"),\n",
    "    )\n",
    "    .drop(\"PrimName_release\", axis=1)\n",
    ")\n",
    "\n",
    "calender.set_index([\"Release Period\", \"NextReleaseEventTime\"], inplace=True, drop=True)\n",
    "calender.sort_index(level=[1], ascending=[True], inplace=True)\n",
    "\n",
    "\n",
    "calender.rename(columns={\"FullDescription_release\": \"Release_Title\"}, inplace=True)\n",
    "\n",
    "calender[\"LastReleaseEventTime\"] = calender[\"LastReleaseEventTime\"].map(\n",
    "    lambda x: x.strftime(\"%d/%m/%Y %H:%M\")\n",
    ")\n",
    "\n",
    "NextReleaseEventTime_Mapped_index = calender.index.get_level_values(1).map(\n",
    "    lambda x: x.strftime(\"%d/%m/%Y %H:%M\") if not pd.isnull(x) else pd.NaT\n",
    ")\n",
    "calender.index = pd.MultiIndex.from_tuples(\n",
    "    list(zip(calender.index.get_level_values(0), NextReleaseEventTime_Mapped_index))\n",
    ")\n",
    "\n",
    "calender = calender[\n",
    "    [\n",
    "        \"NextReleaseEventReferencePeriod\",\n",
    "        \"Release_Title\",\n",
    "        \"PrimName\",\n",
    "        \"FullDescription\",\n",
    "        \"LatestValue\",\n",
    "        \"LastModifiedTimeStamp\",\n",
    "        \"LastReleaseEventTime\",\n",
    "    ]\n",
    "]\n",
    "calender"
   ]
  }
 ],
 "metadata": {
  "kernelspec": {
   "display_name": ".venv",
   "language": "python",
   "name": "python3"
  },
  "language_info": {
   "codemirror_mode": {
    "name": "ipython",
    "version": 3
   },
   "file_extension": ".py",
   "mimetype": "text/x-python",
   "name": "python",
   "nbconvert_exporter": "python",
   "pygments_lexer": "ipython3",
   "version": "3.11.9"
  },
  "orig_nbformat": 4
 },
 "nbformat": 4,
 "nbformat_minor": 2
}
