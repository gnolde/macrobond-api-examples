{
 "cells": [
  {
   "cell_type": "markdown",
   "metadata": {},
   "source": [
    "# 6.1 - Macrobond Data API - Update Your Universe\n",
    "\n",
    "*Retreive your universe, check and synchronise your database for updates*\n",
    "\n",
    "This is a notebook example that demonstrate some of the features of the SubscriptionList endpoints. For comprehensive usage example, please refer to example `subscribing_to_updates.py`\n",
    "\n",
    "Please note that SubscriptionList endpoints would only work with real PrimNames, not with the aliases. For example, you should set \"usnaac0169\" instead of \"usgdp\" for the SubscriptionList. You can find PrimNames in each entities metadata.\n",
    "\n",
    "Besides, apart from TimeSeries we demonstrate below, you can also use SubscriptionList endpoints to check updates of other entities like Release, Source, etc.\n",
    "\n",
    "*Full error handling is omitted for brevity*"
   ]
  },
  {
   "cell_type": "markdown",
   "metadata": {},
   "source": [
    "***\n",
    "\n",
    "## Importing packages"
   ]
  },
  {
   "cell_type": "code",
   "execution_count": 0,
   "metadata": {},
   "outputs": [],
   "source": [
    "from macrobond_data_api.web import WebClient\n",
    "\n",
    "api = WebClient().open()\n",
    "\n",
    "from datetime import datetime, timedelta, timezone"
   ]
  },
  {
   "cell_type": "markdown",
   "metadata": {},
   "source": [
    "***\n",
    "\n",
    "## Define the universe for checking the update\n",
    "\n",
    "\n",
    "For this example only, we are using a Search query to build a master list of time series.\n",
    "But, in practice, this should be the universe you wish to subscribe to on a production basis, and you want to keep them up to date."
   ]
  },
  {
   "cell_type": "code",
   "execution_count": null,
   "metadata": {},
   "outputs": [],
   "source": [
    "data_frame = api.entity_search(\n",
    "    entity_types=\"TimeSeries\",\n",
    "    must_have_values={\"Category\": \"pric\", \"Frequency\": \"daily\", \"Region\": \"cn\"},\n",
    ").to_pd_data_frame()\n",
    "data_frame.shape"
   ]
  },
  {
   "cell_type": "markdown",
   "metadata": {},
   "source": [
    "Now, let's select and download the first 100 time series from the query above."
   ]
  },
  {
   "cell_type": "code",
   "execution_count": 0,
   "metadata": {},
   "outputs": [],
   "source": [
    "# example using get_many_series\n",
    "myseries = list(data_frame[\"Name\"])[\n",
    "    :100\n",
    "]  # select the first 100 series of the result above as an example\n",
    "database = {}\n",
    "for i in api.get_many_series(\n",
    "    [(i) for i in myseries]\n",
    "):  # extract the value from Macrobond\n",
    "    database[i.primary_name] = i.to_dict()  # transfer the value into your database"
   ]
  },
  {
   "cell_type": "markdown",
   "metadata": {},
   "source": [
    "***\n",
    "\n",
    "## Set up the Subscription List, poll for updates, and retrieve updates time series\n",
    "\n",
    "Here, we set the Subscription List as our master universe, retrieved from the section just above. We also set up the last update time/download time of the universe in our database.\n",
    "\n",
    "In practice, please make sure your input universe is effective entities PrimName, instead of aliases or anything else.\n",
    "\n",
    "For demonstration purpose only, we want to see some update information, so let's set the last update time to 3 days ago. In a real case, you should set it to the time you downloaded the universe last.\n",
    "\n",
    "We also set the poll_inverval to 20 seconds. This means the function will pause 20 seconds once it finishes checking every time series in the universe, before it starts checking again."
   ]
  },
  {
   "cell_type": "code",
   "execution_count": 0,
   "metadata": {},
   "outputs": [],
   "source": [
    "list_modified = datetime.now(timezone.utc) - timedelta(\n",
    "    days=3\n",
    ")  # Let us assume the last time you update your universe is three days ago, so we can get some update info below\n",
    "\n",
    "subscription_list = api.subscription_list(\n",
    "    list_modified, poll_interval=timedelta(seconds=20)\n",
    ")\n",
    "\n",
    "subscription_list.set(myseries)"
   ]
  },
  {
   "cell_type": "markdown",
   "metadata": {},
   "source": [
    "### 1. Continuous updates - `poll` function\n",
    "\n",
    "You can choose using the poll function to keep checking the update information. If it is not interrupted, it acts as a pulse, keeping your database synchronised with Macrobond.\n",
    "\n",
    "The example below is designed for illustration purpose only where the polling frequency is set to a fixed interval.\n",
    "In a production environment, where you want to consistently keep checking for updates, this would be achieved through an infinite loop with a statement such as 'while true'."
   ]
  },
  {
   "cell_type": "code",
   "execution_count": null,
   "metadata": {},
   "outputs": [],
   "source": [
    "time = datetime.now(timezone.utc)\n",
    "twenty_seconds_later = time + timedelta(seconds=20)\n",
    "\n",
    "while (\n",
    "    time <= twenty_seconds_later\n",
    "):  # in your environment this should be a infinite while loop (while True), here we set a 20 seconds count down for illustration purpose.\n",
    "    result = subscription_list.poll()  # poll and check update information constantly\n",
    "    print(result)\n",
    "    if (\n",
    "        result != {}\n",
    "    ):  # once there are any update detected here, put the updated timeseries in get_many_series or get_series and sync the value to your database.\n",
    "        updated_timeseries_extract = api.get_series(list(result.keys()))\n",
    "        for i in range(len(updated_timeseries_extract)):\n",
    "            database[updated_timeseries_extract[i].primary_name] = (\n",
    "                updated_timeseries_extract[i].to_dict()\n",
    "            )\n",
    "    time = datetime.now(timezone.utc)"
   ]
  },
  {
   "cell_type": "markdown",
   "metadata": {},
   "source": [
    "### 2. One-off updates - `poll_until_no_more_changes` function\n",
    "\n",
    "Or you can choose to use `poll_until_no_more_changes` function, this will poll update information in one go. It will stop polling once no further updates are detected, rather than pausing and restarting.\n",
    "\n",
    "This method is more suited for environments that aren't expected to run continuously with an infinite loop."
   ]
  },
  {
   "cell_type": "code",
   "execution_count": null,
   "metadata": {},
   "outputs": [],
   "source": [
    "subscription_list = api.subscription_list(\n",
    "    list_modified, poll_interval=timedelta(seconds=20)\n",
    ")\n",
    "subscription_list.set(myseries)\n",
    "\n",
    "\n",
    "result = subscription_list.poll_until_no_more_changes()\n",
    "universe_to_be_updated = sum([list(i.keys()) for i in result], [])\n",
    "print(universe_to_be_updated)\n",
    "if (\n",
    "    result != {}\n",
    "):  # once there are any update detected here, put the updated timeseries in get_many_series or get_series and sync the value to your database.\n",
    "    updated_timeseries_extract = api.get_series(universe_to_be_updated)\n",
    "    for i in range(len(updated_timeseries_extract)):\n",
    "        database[updated_timeseries_extract[i].primary_name] = (\n",
    "            updated_timeseries_extract[i].to_dict()\n",
    "        )"
   ]
  },
  {
   "cell_type": "markdown",
   "metadata": {},
   "source": [
    "***\n",
    "\n",
    "## Check universe in the Subscription List"
   ]
  },
  {
   "cell_type": "code",
   "execution_count": null,
   "metadata": {},
   "outputs": [],
   "source": [
    "subscription_list.list()"
   ]
  },
  {
   "cell_type": "markdown",
   "metadata": {},
   "source": [
    "***\n",
    "\n",
    "## Delete an entity in the subscription list\n",
    "\n",
    "Note: You should not make several calls in parallel that modifies the list"
   ]
  },
  {
   "cell_type": "code",
   "execution_count": 0,
   "metadata": {},
   "outputs": [],
   "source": [
    "subscription_list.remove(\n",
    "    subscription_list.list()\n",
    ")  # remove all the series in the subscription list"
   ]
  },
  {
   "cell_type": "markdown",
   "metadata": {},
   "source": [
    "***\n",
    "\n",
    "## Add entities to the subscription list"
   ]
  },
  {
   "cell_type": "code",
   "execution_count": 0,
   "metadata": {},
   "outputs": [],
   "source": [
    "subscription_list.add(myseries)  # add a list of entities"
   ]
  }
 ],
 "metadata": {
  "kernelspec": {
   "display_name": ".venv",
   "language": "python",
   "name": "python3"
  },
  "language_info": {
   "codemirror_mode": {
    "name": "ipython",
    "version": 3
   },
   "file_extension": ".py",
   "mimetype": "text/x-python",
   "name": "python",
   "nbconvert_exporter": "python",
   "pygments_lexer": "ipython3",
   "version": "3.11.9"
  }
 },
 "nbformat": 4,
 "nbformat_minor": 2
}
